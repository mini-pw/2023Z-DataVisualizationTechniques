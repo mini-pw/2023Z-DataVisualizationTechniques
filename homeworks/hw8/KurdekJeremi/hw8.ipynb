{
 "cells": [
  {
   "cell_type": "markdown",
   "id": "caa75dbf",
   "metadata": {},
   "source": [
    "# Praca domowa nr 8"
   ]
  },
  {
   "cell_type": "markdown",
   "id": "b5401c27",
   "metadata": {},
   "source": [
    "- Dane to tej pracy domowej to lista top 5000 albumów muzycznych wg portalu [rateyourmusic.com](https://rateyourmusic.com). Dataset wraz z opisem można znaleźć na [Kaggle'u](https://www.kaggle.com/datasets/michaelbryantds/top-5000-albums-of-all-time-rateyourmusiccom). \n",
    "- Dane znajdują się też w katalogu z pracą domową - nazwa pliku to `rym_top5000.csv`.  "
   ]
  },
  {
   "cell_type": "markdown",
   "id": "4f2dc2f5",
   "metadata": {},
   "source": [
    "## Zadanie 1 - `numpy` + `pandas` (2 pkt)\n",
    "Używając funkcji z pakietów `numpy` oraz `pandas` odpowiedz na poniższe pytania dotyczące zbioru danych o albumach muzycznych."
   ]
  },
  {
   "cell_type": "code",
   "execution_count": 3,
   "id": "7c1befd1",
   "metadata": {},
   "outputs": [],
   "source": [
    "import numpy as np\n",
    "import pandas as pd"
   ]
  },
  {
   "cell_type": "code",
   "execution_count": 4,
   "id": "227cdfef",
   "metadata": {},
   "outputs": [],
   "source": [
    "df = pd.read_csv(\"rym_top5000.csv\")"
   ]
  },
  {
   "cell_type": "code",
   "execution_count": 5,
   "id": "64d99c26",
   "metadata": {},
   "outputs": [
    {
     "data": {
      "text/html": [
       "<div>\n",
       "<style scoped>\n",
       "    .dataframe tbody tr th:only-of-type {\n",
       "        vertical-align: middle;\n",
       "    }\n",
       "\n",
       "    .dataframe tbody tr th {\n",
       "        vertical-align: top;\n",
       "    }\n",
       "\n",
       "    .dataframe thead th {\n",
       "        text-align: right;\n",
       "    }\n",
       "</style>\n",
       "<table border=\"1\" class=\"dataframe\">\n",
       "  <thead>\n",
       "    <tr style=\"text-align: right;\">\n",
       "      <th></th>\n",
       "      <th>Ranking</th>\n",
       "      <th>Album</th>\n",
       "      <th>Artist Name</th>\n",
       "      <th>Release Date</th>\n",
       "      <th>Genres</th>\n",
       "      <th>Descriptors</th>\n",
       "      <th>Average Rating</th>\n",
       "      <th>Number of Ratings</th>\n",
       "      <th>Number of Reviews</th>\n",
       "    </tr>\n",
       "  </thead>\n",
       "  <tbody>\n",
       "    <tr>\n",
       "      <th>0</th>\n",
       "      <td>1.0</td>\n",
       "      <td>OK Computer</td>\n",
       "      <td>Radiohead</td>\n",
       "      <td>16 June 1997</td>\n",
       "      <td>Alternative Rock, Art Rock</td>\n",
       "      <td>melancholic, anxious, futuristic, alienation, ...</td>\n",
       "      <td>4.23</td>\n",
       "      <td>70,382</td>\n",
       "      <td>1531</td>\n",
       "    </tr>\n",
       "    <tr>\n",
       "      <th>1</th>\n",
       "      <td>2.0</td>\n",
       "      <td>Wish You Were Here</td>\n",
       "      <td>Pink Floyd</td>\n",
       "      <td>12 September 1975</td>\n",
       "      <td>Progressive Rock, Art Rock</td>\n",
       "      <td>melancholic, atmospheric, progressive, male vo...</td>\n",
       "      <td>4.29</td>\n",
       "      <td>48,662</td>\n",
       "      <td>983</td>\n",
       "    </tr>\n",
       "    <tr>\n",
       "      <th>2</th>\n",
       "      <td>3.0</td>\n",
       "      <td>In the Court of the Crimson King</td>\n",
       "      <td>King Crimson</td>\n",
       "      <td>10 October 1969</td>\n",
       "      <td>Progressive Rock, Art Rock</td>\n",
       "      <td>fantasy, epic, progressive, philosophical, com...</td>\n",
       "      <td>4.30</td>\n",
       "      <td>44,943</td>\n",
       "      <td>870</td>\n",
       "    </tr>\n",
       "    <tr>\n",
       "      <th>3</th>\n",
       "      <td>4.0</td>\n",
       "      <td>Kid A</td>\n",
       "      <td>Radiohead</td>\n",
       "      <td>3 October 2000</td>\n",
       "      <td>Art Rock, Experimental Rock, Electronic</td>\n",
       "      <td>cold, melancholic, futuristic, atmospheric, an...</td>\n",
       "      <td>4.21</td>\n",
       "      <td>58,590</td>\n",
       "      <td>734</td>\n",
       "    </tr>\n",
       "    <tr>\n",
       "      <th>4</th>\n",
       "      <td>5.0</td>\n",
       "      <td>To Pimp a Butterfly</td>\n",
       "      <td>Kendrick Lamar</td>\n",
       "      <td>15 March 2015</td>\n",
       "      <td>Conscious Hip Hop, West Coast Hip Hop, Jazz Rap</td>\n",
       "      <td>political, conscious, poetic, protest, concept...</td>\n",
       "      <td>4.27</td>\n",
       "      <td>44,206</td>\n",
       "      <td>379</td>\n",
       "    </tr>\n",
       "  </tbody>\n",
       "</table>\n",
       "</div>"
      ],
      "text/plain": [
       "   Ranking                             Album     Artist Name  \\\n",
       "0      1.0                       OK Computer       Radiohead   \n",
       "1      2.0                Wish You Were Here      Pink Floyd   \n",
       "2      3.0  In the Court of the Crimson King    King Crimson   \n",
       "3      4.0                             Kid A       Radiohead   \n",
       "4      5.0               To Pimp a Butterfly  Kendrick Lamar   \n",
       "\n",
       "        Release Date                                           Genres  \\\n",
       "0       16 June 1997                       Alternative Rock, Art Rock   \n",
       "1  12 September 1975                       Progressive Rock, Art Rock   \n",
       "2    10 October 1969                       Progressive Rock, Art Rock   \n",
       "3     3 October 2000          Art Rock, Experimental Rock, Electronic   \n",
       "4      15 March 2015  Conscious Hip Hop, West Coast Hip Hop, Jazz Rap   \n",
       "\n",
       "                                         Descriptors  Average Rating  \\\n",
       "0  melancholic, anxious, futuristic, alienation, ...            4.23   \n",
       "1  melancholic, atmospheric, progressive, male vo...            4.29   \n",
       "2  fantasy, epic, progressive, philosophical, com...            4.30   \n",
       "3  cold, melancholic, futuristic, atmospheric, an...            4.21   \n",
       "4  political, conscious, poetic, protest, concept...            4.27   \n",
       "\n",
       "  Number of Ratings  Number of Reviews  \n",
       "0            70,382               1531  \n",
       "1            48,662                983  \n",
       "2            44,943                870  \n",
       "3            58,590                734  \n",
       "4            44,206                379  "
      ]
     },
     "execution_count": 5,
     "metadata": {},
     "output_type": "execute_result"
    }
   ],
   "source": [
    "df.head()"
   ]
  },
  {
   "cell_type": "markdown",
   "id": "9db9ab53",
   "metadata": {},
   "source": [
    "#### Jacy artyści z ponad 5 albumami na liście mają największą medianę ocen dla swoich albumów? Podaj top 10."
   ]
  },
  {
   "cell_type": "code",
   "execution_count": 6,
   "id": "eea99bae",
   "metadata": {},
   "outputs": [
    {
     "name": "stderr",
     "output_type": "stream",
     "text": [
      "/tmp/ipykernel_167005/2608788320.py:2: UserWarning: Boolean Series key will be reindexed to match DataFrame index.\n",
      "  df2 = df2[df['Artist Name'].value_counts() > 5].reset_index()\n"
     ]
    },
    {
     "data": {
      "text/html": [
       "<div>\n",
       "<style scoped>\n",
       "    .dataframe tbody tr th:only-of-type {\n",
       "        vertical-align: middle;\n",
       "    }\n",
       "\n",
       "    .dataframe tbody tr th {\n",
       "        vertical-align: top;\n",
       "    }\n",
       "\n",
       "    .dataframe thead th {\n",
       "        text-align: right;\n",
       "    }\n",
       "</style>\n",
       "<table border=\"1\" class=\"dataframe\">\n",
       "  <thead>\n",
       "    <tr style=\"text-align: right;\">\n",
       "      <th></th>\n",
       "      <th>Artist Name</th>\n",
       "      <th>median</th>\n",
       "    </tr>\n",
       "  </thead>\n",
       "  <tbody>\n",
       "    <tr>\n",
       "      <th>10</th>\n",
       "      <td>David Bowie</td>\n",
       "      <td>4.050</td>\n",
       "    </tr>\n",
       "    <tr>\n",
       "      <th>71</th>\n",
       "      <td>The Beatles</td>\n",
       "      <td>4.045</td>\n",
       "    </tr>\n",
       "    <tr>\n",
       "      <th>36</th>\n",
       "      <td>King Crimson</td>\n",
       "      <td>3.970</td>\n",
       "    </tr>\n",
       "    <tr>\n",
       "      <th>76</th>\n",
       "      <td>The Rolling Stones</td>\n",
       "      <td>3.965</td>\n",
       "    </tr>\n",
       "    <tr>\n",
       "      <th>2</th>\n",
       "      <td>Black Sabbath</td>\n",
       "      <td>3.950</td>\n",
       "    </tr>\n",
       "    <tr>\n",
       "      <th>38</th>\n",
       "      <td>Led Zeppelin</td>\n",
       "      <td>3.940</td>\n",
       "    </tr>\n",
       "    <tr>\n",
       "      <th>57</th>\n",
       "      <td>Pink Floyd</td>\n",
       "      <td>3.910</td>\n",
       "    </tr>\n",
       "    <tr>\n",
       "      <th>11</th>\n",
       "      <td>Death</td>\n",
       "      <td>3.905</td>\n",
       "    </tr>\n",
       "    <tr>\n",
       "      <th>26</th>\n",
       "      <td>John Coltrane</td>\n",
       "      <td>3.905</td>\n",
       "    </tr>\n",
       "    <tr>\n",
       "      <th>3</th>\n",
       "      <td>Bob Dylan</td>\n",
       "      <td>3.890</td>\n",
       "    </tr>\n",
       "  </tbody>\n",
       "</table>\n",
       "</div>"
      ],
      "text/plain": [
       "           Artist Name  median\n",
       "10         David Bowie   4.050\n",
       "71         The Beatles   4.045\n",
       "36        King Crimson   3.970\n",
       "76  The Rolling Stones   3.965\n",
       "2        Black Sabbath   3.950\n",
       "38        Led Zeppelin   3.940\n",
       "57          Pink Floyd   3.910\n",
       "11               Death   3.905\n",
       "26       John Coltrane   3.905\n",
       "3            Bob Dylan   3.890"
      ]
     },
     "execution_count": 6,
     "metadata": {},
     "output_type": "execute_result"
    }
   ],
   "source": [
    "df2 = df.groupby('Artist Name')['Average Rating'].agg(['median'])\n",
    "df2 = df2[df['Artist Name'].value_counts() > 5].reset_index()\n",
    "df2 = df2.sort_values(by='median', ascending=False)\n",
    "df2.head(10)"
   ]
  },
  {
   "cell_type": "markdown",
   "id": "5b24ae18",
   "metadata": {},
   "source": [
    "#### Jacy artyści mają największą różnicę między najgorszym i najlepszym średnim ratingiem dla swojego albumu? Podaj top 10  oraz najwyższą i najniższą ocenę dla każdego z tych artystów. "
   ]
  },
  {
   "cell_type": "code",
   "execution_count": 7,
   "id": "239a5b5e",
   "metadata": {},
   "outputs": [
    {
     "data": {
      "text/html": [
       "<div>\n",
       "<style scoped>\n",
       "    .dataframe tbody tr th:only-of-type {\n",
       "        vertical-align: middle;\n",
       "    }\n",
       "\n",
       "    .dataframe tbody tr th {\n",
       "        vertical-align: top;\n",
       "    }\n",
       "\n",
       "    .dataframe thead th {\n",
       "        text-align: right;\n",
       "    }\n",
       "</style>\n",
       "<table border=\"1\" class=\"dataframe\">\n",
       "  <thead>\n",
       "    <tr style=\"text-align: right;\">\n",
       "      <th></th>\n",
       "      <th>min</th>\n",
       "      <th>max</th>\n",
       "      <th>diff</th>\n",
       "    </tr>\n",
       "    <tr>\n",
       "      <th>Artist Name</th>\n",
       "      <th></th>\n",
       "      <th></th>\n",
       "      <th></th>\n",
       "    </tr>\n",
       "  </thead>\n",
       "  <tbody>\n",
       "    <tr>\n",
       "      <th>Kendrick Lamar</th>\n",
       "      <td>3.52</td>\n",
       "      <td>4.27</td>\n",
       "      <td>0.75</td>\n",
       "    </tr>\n",
       "    <tr>\n",
       "      <th>The Beatles</th>\n",
       "      <td>3.55</td>\n",
       "      <td>4.25</td>\n",
       "      <td>0.70</td>\n",
       "    </tr>\n",
       "    <tr>\n",
       "      <th>Pink Floyd</th>\n",
       "      <td>3.60</td>\n",
       "      <td>4.29</td>\n",
       "      <td>0.69</td>\n",
       "    </tr>\n",
       "    <tr>\n",
       "      <th>My Bloody Valentine</th>\n",
       "      <td>3.58</td>\n",
       "      <td>4.24</td>\n",
       "      <td>0.66</td>\n",
       "    </tr>\n",
       "    <tr>\n",
       "      <th>King Crimson</th>\n",
       "      <td>3.67</td>\n",
       "      <td>4.30</td>\n",
       "      <td>0.63</td>\n",
       "    </tr>\n",
       "    <tr>\n",
       "      <th>John Coltrane</th>\n",
       "      <td>3.70</td>\n",
       "      <td>4.30</td>\n",
       "      <td>0.60</td>\n",
       "    </tr>\n",
       "    <tr>\n",
       "      <th>Radiohead</th>\n",
       "      <td>3.66</td>\n",
       "      <td>4.23</td>\n",
       "      <td>0.57</td>\n",
       "    </tr>\n",
       "    <tr>\n",
       "      <th>Miles Davis</th>\n",
       "      <td>3.69</td>\n",
       "      <td>4.23</td>\n",
       "      <td>0.54</td>\n",
       "    </tr>\n",
       "    <tr>\n",
       "      <th>The Cure</th>\n",
       "      <td>3.63</td>\n",
       "      <td>4.17</td>\n",
       "      <td>0.54</td>\n",
       "    </tr>\n",
       "    <tr>\n",
       "      <th>Kanye West</th>\n",
       "      <td>3.54</td>\n",
       "      <td>4.07</td>\n",
       "      <td>0.53</td>\n",
       "    </tr>\n",
       "  </tbody>\n",
       "</table>\n",
       "</div>"
      ],
      "text/plain": [
       "                      min   max  diff\n",
       "Artist Name                          \n",
       "Kendrick Lamar       3.52  4.27  0.75\n",
       "The Beatles          3.55  4.25  0.70\n",
       "Pink Floyd           3.60  4.29  0.69\n",
       "My Bloody Valentine  3.58  4.24  0.66\n",
       "King Crimson         3.67  4.30  0.63\n",
       "John Coltrane        3.70  4.30  0.60\n",
       "Radiohead            3.66  4.23  0.57\n",
       "Miles Davis          3.69  4.23  0.54\n",
       "The Cure             3.63  4.17  0.54\n",
       "Kanye West           3.54  4.07  0.53"
      ]
     },
     "execution_count": 7,
     "metadata": {},
     "output_type": "execute_result"
    }
   ],
   "source": [
    "df3 = df.copy()\n",
    "df3 = df3.groupby('Artist Name')['Average Rating'].agg(['min', 'max'])\n",
    "df3['diff'] = df3['max'] - df3['min']\n",
    "\n",
    "df3.sort_values(by='diff', ascending=False).head(10)"
   ]
  },
  {
   "cell_type": "markdown",
   "id": "c3b4419a",
   "metadata": {},
   "source": [
    "#### Podaj top 10 albumów o największym stosunku liczby ocen do liczby recenzji. Weź pod uwagę tylko albumy o przynajmniej 5000 ocenach i 15 recenzjach."
   ]
  },
  {
   "cell_type": "code",
   "execution_count": 8,
   "id": "0893f98e",
   "metadata": {},
   "outputs": [
    {
     "data": {
      "text/html": [
       "<div>\n",
       "<style scoped>\n",
       "    .dataframe tbody tr th:only-of-type {\n",
       "        vertical-align: middle;\n",
       "    }\n",
       "\n",
       "    .dataframe tbody tr th {\n",
       "        vertical-align: top;\n",
       "    }\n",
       "\n",
       "    .dataframe thead th {\n",
       "        text-align: right;\n",
       "    }\n",
       "</style>\n",
       "<table border=\"1\" class=\"dataframe\">\n",
       "  <thead>\n",
       "    <tr style=\"text-align: right;\">\n",
       "      <th></th>\n",
       "      <th>Album</th>\n",
       "      <th>Ratio</th>\n",
       "    </tr>\n",
       "  </thead>\n",
       "  <tbody>\n",
       "    <tr>\n",
       "      <th>353</th>\n",
       "      <td>Jenny Death: The Powers That B Disc 2</td>\n",
       "      <td>361.833333</td>\n",
       "    </tr>\n",
       "    <tr>\n",
       "      <th>1695</th>\n",
       "      <td>Bury Me at Makeout Creek</td>\n",
       "      <td>308.210526</td>\n",
       "    </tr>\n",
       "    <tr>\n",
       "      <th>3733</th>\n",
       "      <td>春と修羅 (Haru to Shura)</td>\n",
       "      <td>272.913043</td>\n",
       "    </tr>\n",
       "    <tr>\n",
       "      <th>4949</th>\n",
       "      <td>Saturation</td>\n",
       "      <td>251.842857</td>\n",
       "    </tr>\n",
       "    <tr>\n",
       "      <th>1036</th>\n",
       "      <td>Saturation III</td>\n",
       "      <td>251.735294</td>\n",
       "    </tr>\n",
       "    <tr>\n",
       "      <th>2489</th>\n",
       "      <td>Scenery</td>\n",
       "      <td>248.666667</td>\n",
       "    </tr>\n",
       "    <tr>\n",
       "      <th>643</th>\n",
       "      <td>Endless</td>\n",
       "      <td>228.487179</td>\n",
       "    </tr>\n",
       "    <tr>\n",
       "      <th>2869</th>\n",
       "      <td>Imperial</td>\n",
       "      <td>225.420000</td>\n",
       "    </tr>\n",
       "    <tr>\n",
       "      <th>950</th>\n",
       "      <td>Saturation II</td>\n",
       "      <td>215.552941</td>\n",
       "    </tr>\n",
       "    <tr>\n",
       "      <th>439</th>\n",
       "      <td>Bottomless Pit</td>\n",
       "      <td>202.098039</td>\n",
       "    </tr>\n",
       "  </tbody>\n",
       "</table>\n",
       "</div>"
      ],
      "text/plain": [
       "                                      Album       Ratio\n",
       "353   Jenny Death: The Powers That B Disc 2  361.833333\n",
       "1695               Bury Me at Makeout Creek  308.210526\n",
       "3733                   春と修羅 (Haru to Shura)  272.913043\n",
       "4949                             Saturation  251.842857\n",
       "1036                         Saturation III  251.735294\n",
       "2489                                Scenery  248.666667\n",
       "643                                 Endless  228.487179\n",
       "2869                               Imperial  225.420000\n",
       "950                           Saturation II  215.552941\n",
       "439                          Bottomless Pit  202.098039"
      ]
     },
     "execution_count": 8,
     "metadata": {},
     "output_type": "execute_result"
    }
   ],
   "source": [
    "df4 = df.copy()\n",
    "df4['Number of Ratings'] = df4['Number of Ratings'].str.replace(',', '').astype(int)\n",
    "\n",
    "\n",
    "df4 = df4[(df4['Number of Ratings'] >= 5000) & (df4['Number of Reviews'] >= 15)]\n",
    "df4['Ratio'] = df4['Number of Ratings'] / df4['Number of Reviews']\n",
    "df4.sort_values(by='Ratio', ascending=False)[['Album', 'Ratio']].head(10)"
   ]
  },
  {
   "cell_type": "markdown",
   "id": "dd2408a1",
   "metadata": {},
   "source": [
    "#### Z których lat pochodzi najwięcej albumów na liście najpopularniejszych wśród krytyków i najpopularniejszych wśród oceniających? \n",
    "a) Podaj 5 lat, w których wydano najwięcej albumów z listy mających liczbę recenzji większą niż Q3 (trzeci kwartyl).\n",
    "\n",
    "b) Podaj 5 lat, w których wydano najwięcej albumów z listy mających liczbę ocen większą niż Q3 (trzeci kwartyl).\n"
   ]
  },
  {
   "cell_type": "code",
   "execution_count": 9,
   "id": "dc06bfbf",
   "metadata": {},
   "outputs": [
    {
     "name": "stdout",
     "output_type": "stream",
     "text": [
      "1970    43\n",
      "1971    41\n",
      "1969    38\n",
      "1994    36\n",
      "1973    34\n",
      "Name: year, dtype: int64\n",
      "1994    41\n",
      "1971    36\n",
      "1970    35\n",
      "1996    34\n",
      "1995    33\n",
      "Name: year, dtype: int64\n"
     ]
    }
   ],
   "source": [
    "df5 = df.copy()\n",
    "df5['Number of Ratings'] = df5['Number of Ratings'].str.replace(',', '').astype(int)\n",
    "df5['year'] = pd.DatetimeIndex(df5['Release Date']).year\n",
    "\n",
    "reviews_q3 = df5['Number of Reviews'].quantile(0.75)\n",
    "df_reviews = df5[df5['Number of Reviews'] > reviews_q3]\n",
    "top_5_reviews_years = df_reviews['year'].value_counts().sort_values(ascending=False).head(5)\n",
    "print(top_5_reviews_years)\n",
    "\n",
    "ratings_q3 = df5['Number of Ratings'].quantile(0.75)\n",
    "df_ratings = df5[df5['Number of Ratings'] > ratings_q3]\n",
    "top_5_ratings_years = df_ratings['year'].value_counts().sort_values(ascending=False).head(5)\n",
    "print(top_5_ratings_years)\n"
   ]
  },
  {
   "cell_type": "markdown",
   "id": "da9a51d3",
   "metadata": {},
   "source": [
    "## Zadanie 2 - wizualizacja (3 pkt)\n",
    "- Za pomocą pakietów `matplotlib` i `seaborn` stwórz dwa wykresy. \n",
    "- Wykorzystaj funkcję `matplotlib.pyplot.subplots`, by umieścić je we wspólnej figurze. \n",
    "- Jeden z wykresów ma opierać się na wynikach z zadania 1 - wizualizować odpowiedź na wybrane pytanie. \n",
    "- Drugi wykres może mieć dowolną tematykę, ale ma być powiązany z wcześniejszym, tak by figura mogła mieć wspólny tytuł."
   ]
  },
  {
   "cell_type": "code",
   "execution_count": 10,
   "id": "3c4c2735",
   "metadata": {},
   "outputs": [
    {
     "name": "stderr",
     "output_type": "stream",
     "text": [
      "/tmp/ipykernel_167005/982044665.py:2: UserWarning: Boolean Series key will be reindexed to match DataFrame index.\n",
      "  df2 = df2[df['Artist Name'].value_counts() > 5].reset_index()\n"
     ]
    },
    {
     "data": {
      "image/png": "[encoded data removed]",
      "text/plain": [
       "<Figure size 1000x1000 with 2 Axes>"
      ]
     },
     "metadata": {},
     "output_type": "display_data"
    }
   ],
   "source": [
    "df2 = df.groupby('Artist Name')['Average Rating'].agg(['median'])\n",
    "df2 = df2[df['Artist Name'].value_counts() > 5].reset_index()\n",
    "df2 = df2.sort_values(by='median', ascending=False)\n",
    "\n",
    "# plot\n",
    "\n",
    "import matplotlib.pyplot as plt\n",
    "import seaborn as sns\n",
    "plt.figure(figsize=(10, 10))\n",
    "plt.subplot(211)\n",
    "ax1 = sns.barplot(y='Artist Name', x='median', data=df2.head(10), color='blue')\n",
    "ax1.bar_label(ax1.containers[0], fmt='%.2f', label_type='edge')\n",
    "plt.xlabel('Median Rating')\n",
    "plt.ylabel('Artist Name')\n",
    "plt.title('Top 10 artists with highest median rating')\n",
    "\n",
    "plt.subplot(212)\n",
    "ax2 = sns.barplot(y='Artist Name', x='median', data=df2.tail(10), color='blue')\n",
    "ax2.bar_label(ax2.containers[0], fmt='%.2f', label_type='edge')\n",
    "plt.xlabel('Median Rating')\n",
    "plt.ylabel('Artist Name')\n",
    "plt.title('Top 10 artists with lowest median rating')\n",
    "\n",
    "plt.show()"
   ]
  },
  {
   "cell_type": "markdown",
   "id": "7467b52d",
   "metadata": {},
   "source": [
    "## * Zadanie 3 - bonusowe (1 pkt)"
   ]
  },
  {
   "cell_type": "markdown",
   "id": "ce3a0849",
   "metadata": {},
   "source": [
    "Zapisz wygenerowaną figurę do formatu `.pgf` i załącz w raporcie wygenerowanym w `LaTeX` tak, by na wykresie zawierał się klikalny link do strony `www.rateyourmusic.com` (np. w tytule) - można zrobić to ręcznie, edytując zapisany plik `.pgf`. Przykład w katalogu z pracą domową w pliku `pgf_example.pdf` (klikalny tytuł i elementy legendy).  \n",
    "\n",
    "Załącz w rozwiązaniu wygenerowany plik `pdf`. "
   ]
  }
 ],
 "metadata": {
  "kernelspec": {
   "display_name": "twd",
   "language": "python",
   "name": "python3"
  },
  "language_info": {
   "codemirror_mode": {
    "name": "ipython",
    "version": 3
   },
   "file_extension": ".py",
   "mimetype": "text/x-python",
   "name": "python",
   "nbconvert_exporter": "python",
   "pygments_lexer": "ipython3",
   "version": "3.10.6"
  },
  "vscode": {
   "interpreter": {
    "hash": "160f859ab6855154f951725346e5cb88033463aff5e8633d98663ce51ee27324"
   }
  }
 },
 "nbformat": 4,
 "nbformat_minor": 5
}
