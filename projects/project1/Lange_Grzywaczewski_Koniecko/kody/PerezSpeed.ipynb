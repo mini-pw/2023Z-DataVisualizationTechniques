{
 "cells": [
  {
   "cell_type": "markdown",
   "metadata": {},
   "source": [
    "# Graph of Perez speed in Monaco"
   ]
  },
  {
   "cell_type": "code",
   "execution_count": 1,
   "metadata": {},
   "outputs": [],
   "source": [
    "import fastf1\n",
    "import numpy as np\n",
    "import pandas as pd\n",
    "\n",
    "from IPython.display import clear_output\n",
    "from time import sleep\n",
    "import matplotlib.pyplot as plt\n",
    "from matplotlib.collections import LineCollection\n",
    "from matplotlib.colors import ListedColormap\n",
    "from matplotlib import cm"
   ]
  },
  {
   "cell_type": "code",
   "execution_count": 2,
   "metadata": {},
   "outputs": [],
   "source": [
    "fastf1.Cache.enable_cache(\"./cache\")"
   ]
  },
  {
   "cell_type": "code",
   "execution_count": 3,
   "metadata": {},
   "outputs": [],
   "source": [
    "ses = fastf1.get_session(2022, \"Monaco Grand Prix\", \"R\")\n",
    "ses.load()\n",
    "clear_output()"
   ]
  },
  {
   "cell_type": "code",
   "execution_count": 4,
   "metadata": {},
   "outputs": [
    {
     "data": {
      "text/html": [
       "<div>\n",
       "<style scoped>\n",
       "    .dataframe tbody tr th:only-of-type {\n",
       "        vertical-align: middle;\n",
       "    }\n",
       "\n",
       "    .dataframe tbody tr th {\n",
       "        vertical-align: top;\n",
       "    }\n",
       "\n",
       "    .dataframe thead th {\n",
       "        text-align: right;\n",
       "    }\n",
       "</style>\n",
       "<table border=\"1\" class=\"dataframe\">\n",
       "  <thead>\n",
       "    <tr style=\"text-align: right;\">\n",
       "      <th></th>\n",
       "      <th>Time</th>\n",
       "      <th>AirTemp</th>\n",
       "      <th>Humidity</th>\n",
       "      <th>Pressure</th>\n",
       "      <th>Rainfall</th>\n",
       "      <th>TrackTemp</th>\n",
       "      <th>WindDirection</th>\n",
       "      <th>WindSpeed</th>\n",
       "    </tr>\n",
       "  </thead>\n",
       "  <tbody>\n",
       "    <tr>\n",
       "      <th>0</th>\n",
       "      <td>0 days 00:00:03.938000</td>\n",
       "      <td>24.2</td>\n",
       "      <td>68.0</td>\n",
       "      <td>1002.9</td>\n",
       "      <td>False</td>\n",
       "      <td>42.1</td>\n",
       "      <td>70</td>\n",
       "      <td>0.8</td>\n",
       "    </tr>\n",
       "    <tr>\n",
       "      <th>1</th>\n",
       "      <td>0 days 00:01:03.941000</td>\n",
       "      <td>24.2</td>\n",
       "      <td>68.0</td>\n",
       "      <td>1002.7</td>\n",
       "      <td>False</td>\n",
       "      <td>41.5</td>\n",
       "      <td>346</td>\n",
       "      <td>0.8</td>\n",
       "    </tr>\n",
       "    <tr>\n",
       "      <th>2</th>\n",
       "      <td>0 days 00:02:03.935000</td>\n",
       "      <td>24.2</td>\n",
       "      <td>68.0</td>\n",
       "      <td>1002.9</td>\n",
       "      <td>False</td>\n",
       "      <td>41.5</td>\n",
       "      <td>335</td>\n",
       "      <td>2.4</td>\n",
       "    </tr>\n",
       "    <tr>\n",
       "      <th>3</th>\n",
       "      <td>0 days 00:03:03.939000</td>\n",
       "      <td>24.1</td>\n",
       "      <td>68.0</td>\n",
       "      <td>1002.9</td>\n",
       "      <td>False</td>\n",
       "      <td>41.3</td>\n",
       "      <td>320</td>\n",
       "      <td>0.6</td>\n",
       "    </tr>\n",
       "    <tr>\n",
       "      <th>4</th>\n",
       "      <td>0 days 00:04:03.938000</td>\n",
       "      <td>24.2</td>\n",
       "      <td>69.0</td>\n",
       "      <td>1002.9</td>\n",
       "      <td>False</td>\n",
       "      <td>41.2</td>\n",
       "      <td>51</td>\n",
       "      <td>0.6</td>\n",
       "    </tr>\n",
       "    <tr>\n",
       "      <th>...</th>\n",
       "      <td>...</td>\n",
       "      <td>...</td>\n",
       "      <td>...</td>\n",
       "      <td>...</td>\n",
       "      <td>...</td>\n",
       "      <td>...</td>\n",
       "      <td>...</td>\n",
       "      <td>...</td>\n",
       "    </tr>\n",
       "    <tr>\n",
       "      <th>240</th>\n",
       "      <td>0 days 04:00:04.543000</td>\n",
       "      <td>22.3</td>\n",
       "      <td>65.0</td>\n",
       "      <td>1003.4</td>\n",
       "      <td>False</td>\n",
       "      <td>29.5</td>\n",
       "      <td>166</td>\n",
       "      <td>1.0</td>\n",
       "    </tr>\n",
       "    <tr>\n",
       "      <th>241</th>\n",
       "      <td>0 days 04:01:04.560000</td>\n",
       "      <td>22.4</td>\n",
       "      <td>65.0</td>\n",
       "      <td>1003.2</td>\n",
       "      <td>False</td>\n",
       "      <td>29.9</td>\n",
       "      <td>165</td>\n",
       "      <td>1.1</td>\n",
       "    </tr>\n",
       "    <tr>\n",
       "      <th>242</th>\n",
       "      <td>0 days 04:02:04.561000</td>\n",
       "      <td>22.4</td>\n",
       "      <td>66.0</td>\n",
       "      <td>1003.2</td>\n",
       "      <td>False</td>\n",
       "      <td>29.8</td>\n",
       "      <td>142</td>\n",
       "      <td>0.6</td>\n",
       "    </tr>\n",
       "    <tr>\n",
       "      <th>243</th>\n",
       "      <td>0 days 04:03:04.570000</td>\n",
       "      <td>22.5</td>\n",
       "      <td>66.0</td>\n",
       "      <td>1003.2</td>\n",
       "      <td>False</td>\n",
       "      <td>30.1</td>\n",
       "      <td>0</td>\n",
       "      <td>0.6</td>\n",
       "    </tr>\n",
       "    <tr>\n",
       "      <th>244</th>\n",
       "      <td>0 days 04:04:04.596000</td>\n",
       "      <td>22.6</td>\n",
       "      <td>65.0</td>\n",
       "      <td>1003.2</td>\n",
       "      <td>True</td>\n",
       "      <td>30.4</td>\n",
       "      <td>180</td>\n",
       "      <td>0.6</td>\n",
       "    </tr>\n",
       "  </tbody>\n",
       "</table>\n",
       "<p>245 rows × 8 columns</p>\n",
       "</div>"
      ],
      "text/plain": [
       "                      Time  AirTemp  Humidity  Pressure  Rainfall  TrackTemp  \\\n",
       "0   0 days 00:00:03.938000     24.2      68.0    1002.9     False       42.1   \n",
       "1   0 days 00:01:03.941000     24.2      68.0    1002.7     False       41.5   \n",
       "2   0 days 00:02:03.935000     24.2      68.0    1002.9     False       41.5   \n",
       "3   0 days 00:03:03.939000     24.1      68.0    1002.9     False       41.3   \n",
       "4   0 days 00:04:03.938000     24.2      69.0    1002.9     False       41.2   \n",
       "..                     ...      ...       ...       ...       ...        ...   \n",
       "240 0 days 04:00:04.543000     22.3      65.0    1003.4     False       29.5   \n",
       "241 0 days 04:01:04.560000     22.4      65.0    1003.2     False       29.9   \n",
       "242 0 days 04:02:04.561000     22.4      66.0    1003.2     False       29.8   \n",
       "243 0 days 04:03:04.570000     22.5      66.0    1003.2     False       30.1   \n",
       "244 0 days 04:04:04.596000     22.6      65.0    1003.2      True       30.4   \n",
       "\n",
       "     WindDirection  WindSpeed  \n",
       "0               70        0.8  \n",
       "1              346        0.8  \n",
       "2              335        2.4  \n",
       "3              320        0.6  \n",
       "4               51        0.6  \n",
       "..             ...        ...  \n",
       "240            166        1.0  \n",
       "241            165        1.1  \n",
       "242            142        0.6  \n",
       "243              0        0.6  \n",
       "244            180        0.6  \n",
       "\n",
       "[245 rows x 8 columns]"
      ]
     },
     "execution_count": 4,
     "metadata": {},
     "output_type": "execute_result"
    }
   ],
   "source": [
    "wd = ses.weather_data\n",
    "wd"
   ]
  },
  {
   "cell_type": "code",
   "execution_count": 5,
   "metadata": {},
   "outputs": [],
   "source": [
    "time_in_mins = wd.Time.map(lambda t: t.asm8.item() / 60_000_000_000)"
   ]
  },
  {
   "cell_type": "code",
   "execution_count": 6,
   "metadata": {},
   "outputs": [
    {
     "data": {
      "text/plain": [
       "[<matplotlib.lines.Line2D at 0x7f5c4bfe77c0>]"
      ]
     },
     "execution_count": 6,
     "metadata": {},
     "output_type": "execute_result"
    },
    {
     "data": {
      "image/png": "[encoded data removed]",
      "text/plain": [
       "<Figure size 640x480 with 1 Axes>"
      ]
     },
     "metadata": {},
     "output_type": "display_data"
    }
   ],
   "source": [
    "plt.plot(time_in_mins, wd.Rainfall)"
   ]
  },
  {
   "cell_type": "code",
   "execution_count": 7,
   "metadata": {},
   "outputs": [
    {
     "data": {
      "text/plain": [
       "43.673469387755105"
      ]
     },
     "execution_count": 7,
     "metadata": {},
     "output_type": "execute_result"
    }
   ],
   "source": [
    "100 * wd.Rainfall.sum() / len(wd.Rainfall)"
   ]
  },
  {
   "cell_type": "markdown",
   "metadata": {},
   "source": [
    "W pierwszych 48 minutach wyścigu nie zaobserwowalismy deszczu, natomiast przez następne 48 min padało\n",
    "Lecz niestety zaden zawodnik sie wtedy nie scigal\n"
   ]
  },
  {
   "cell_type": "code",
   "execution_count": 8,
   "metadata": {},
   "outputs": [],
   "source": [
    "ses.load_telemetry()\n",
    "clear_output()"
   ]
  },
  {
   "cell_type": "code",
   "execution_count": 17,
   "metadata": {},
   "outputs": [
    {
     "data": {
      "text/plain": [
       "DriverNumber                         63\n",
       "BroadcastName                 G RUSSELL\n",
       "Abbreviation                        RUS\n",
       "TeamName                       Mercedes\n",
       "TeamColor                        6cd3bf\n",
       "FirstName                        George\n",
       "LastName                        Russell\n",
       "FullName                 George Russell\n",
       "Position                            5.0\n",
       "GridPosition                        6.0\n",
       "Q1                                  NaT\n",
       "Q2                                  NaT\n",
       "Q3                                  NaT\n",
       "Time             0 days 01:56:42.233000\n",
       "Status                         Finished\n",
       "Points                             10.0\n",
       "Name: George, dtype: object"
      ]
     },
     "execution_count": 17,
     "metadata": {},
     "output_type": "execute_result"
    }
   ],
   "source": [
    "ses.get_driver(\"LEC\")"
   ]
  },
  {
   "cell_type": "code",
   "execution_count": 10,
   "metadata": {},
   "outputs": [
    {
     "data": {
      "text/html": [
       "<div>\n",
       "<style scoped>\n",
       "    .dataframe tbody tr th:only-of-type {\n",
       "        vertical-align: middle;\n",
       "    }\n",
       "\n",
       "    .dataframe tbody tr th {\n",
       "        vertical-align: top;\n",
       "    }\n",
       "\n",
       "    .dataframe thead th {\n",
       "        text-align: right;\n",
       "    }\n",
       "</style>\n",
       "<table border=\"1\" class=\"dataframe\">\n",
       "  <thead>\n",
       "    <tr style=\"text-align: right;\">\n",
       "      <th></th>\n",
       "      <th>Time</th>\n",
       "      <th>DriverNumber</th>\n",
       "      <th>LapTime</th>\n",
       "      <th>LapNumber</th>\n",
       "      <th>PitOutTime</th>\n",
       "      <th>PitInTime</th>\n",
       "      <th>Sector1Time</th>\n",
       "      <th>Sector2Time</th>\n",
       "      <th>Sector3Time</th>\n",
       "      <th>Sector1SessionTime</th>\n",
       "      <th>...</th>\n",
       "      <th>Compound</th>\n",
       "      <th>TyreLife</th>\n",
       "      <th>FreshTyre</th>\n",
       "      <th>Stint</th>\n",
       "      <th>LapStartTime</th>\n",
       "      <th>Team</th>\n",
       "      <th>Driver</th>\n",
       "      <th>TrackStatus</th>\n",
       "      <th>IsAccurate</th>\n",
       "      <th>LapStartDate</th>\n",
       "    </tr>\n",
       "  </thead>\n",
       "  <tbody>\n",
       "    <tr>\n",
       "      <th>0</th>\n",
       "      <td>0 days 02:06:35.799000</td>\n",
       "      <td>11</td>\n",
       "      <td>NaT</td>\n",
       "      <td>1</td>\n",
       "      <td>0 days 02:04:16.197000</td>\n",
       "      <td>0 days 02:04:15.170000</td>\n",
       "      <td>NaT</td>\n",
       "      <td>0 days 00:01:02.877000</td>\n",
       "      <td>0 days 00:00:34.691000</td>\n",
       "      <td>NaT</td>\n",
       "      <td>...</td>\n",
       "      <td>INTERMEDIATE</td>\n",
       "      <td>1.0</td>\n",
       "      <td>True</td>\n",
       "      <td>2</td>\n",
       "      <td>0 days 02:04:00.206000</td>\n",
       "      <td>Red Bull Racing</td>\n",
       "      <td>PER</td>\n",
       "      <td>2</td>\n",
       "      <td>False</td>\n",
       "      <td>2022-05-29 14:05:00.227</td>\n",
       "    </tr>\n",
       "    <tr>\n",
       "      <th>1</th>\n",
       "      <td>0 days 02:08:58.942000</td>\n",
       "      <td>11</td>\n",
       "      <td>0 days 00:02:23.143000</td>\n",
       "      <td>2</td>\n",
       "      <td>NaT</td>\n",
       "      <td>NaT</td>\n",
       "      <td>0 days 00:00:35.097000</td>\n",
       "      <td>0 days 00:01:04.135000</td>\n",
       "      <td>0 days 00:00:43.911000</td>\n",
       "      <td>0 days 02:07:10.896000</td>\n",
       "      <td>...</td>\n",
       "      <td>INTERMEDIATE</td>\n",
       "      <td>2.0</td>\n",
       "      <td>True</td>\n",
       "      <td>2</td>\n",
       "      <td>0 days 02:06:35.799000</td>\n",
       "      <td>Red Bull Racing</td>\n",
       "      <td>PER</td>\n",
       "      <td>4</td>\n",
       "      <td>False</td>\n",
       "      <td>2022-05-29 14:07:35.820</td>\n",
       "    </tr>\n",
       "    <tr>\n",
       "      <th>2</th>\n",
       "      <td>0 days 02:10:43.512000</td>\n",
       "      <td>11</td>\n",
       "      <td>0 days 00:01:44.570000</td>\n",
       "      <td>3</td>\n",
       "      <td>NaT</td>\n",
       "      <td>NaT</td>\n",
       "      <td>0 days 00:00:28.244000</td>\n",
       "      <td>0 days 00:00:48.546000</td>\n",
       "      <td>0 days 00:00:27.780000</td>\n",
       "      <td>0 days 02:09:27.186000</td>\n",
       "      <td>...</td>\n",
       "      <td>INTERMEDIATE</td>\n",
       "      <td>3.0</td>\n",
       "      <td>True</td>\n",
       "      <td>2</td>\n",
       "      <td>0 days 02:08:58.942000</td>\n",
       "      <td>Red Bull Racing</td>\n",
       "      <td>PER</td>\n",
       "      <td>1</td>\n",
       "      <td>False</td>\n",
       "      <td>2022-05-29 14:09:58.963</td>\n",
       "    </tr>\n",
       "    <tr>\n",
       "      <th>3</th>\n",
       "      <td>0 days 02:12:25.889000</td>\n",
       "      <td>11</td>\n",
       "      <td>0 days 00:01:42.377000</td>\n",
       "      <td>4</td>\n",
       "      <td>NaT</td>\n",
       "      <td>NaT</td>\n",
       "      <td>0 days 00:00:27.351000</td>\n",
       "      <td>0 days 00:00:47.512000</td>\n",
       "      <td>0 days 00:00:27.514000</td>\n",
       "      <td>0 days 02:11:10.863000</td>\n",
       "      <td>...</td>\n",
       "      <td>INTERMEDIATE</td>\n",
       "      <td>4.0</td>\n",
       "      <td>True</td>\n",
       "      <td>2</td>\n",
       "      <td>0 days 02:10:43.512000</td>\n",
       "      <td>Red Bull Racing</td>\n",
       "      <td>PER</td>\n",
       "      <td>1</td>\n",
       "      <td>True</td>\n",
       "      <td>2022-05-29 14:11:43.533</td>\n",
       "    </tr>\n",
       "    <tr>\n",
       "      <th>4</th>\n",
       "      <td>0 days 02:14:06.118000</td>\n",
       "      <td>11</td>\n",
       "      <td>0 days 00:01:40.229000</td>\n",
       "      <td>5</td>\n",
       "      <td>NaT</td>\n",
       "      <td>NaT</td>\n",
       "      <td>0 days 00:00:27.101000</td>\n",
       "      <td>0 days 00:00:46.748000</td>\n",
       "      <td>0 days 00:00:26.380000</td>\n",
       "      <td>0 days 02:12:52.990000</td>\n",
       "      <td>...</td>\n",
       "      <td>INTERMEDIATE</td>\n",
       "      <td>5.0</td>\n",
       "      <td>True</td>\n",
       "      <td>2</td>\n",
       "      <td>0 days 02:12:25.889000</td>\n",
       "      <td>Red Bull Racing</td>\n",
       "      <td>PER</td>\n",
       "      <td>1</td>\n",
       "      <td>True</td>\n",
       "      <td>2022-05-29 14:13:25.910</td>\n",
       "    </tr>\n",
       "    <tr>\n",
       "      <th>...</th>\n",
       "      <td>...</td>\n",
       "      <td>...</td>\n",
       "      <td>...</td>\n",
       "      <td>...</td>\n",
       "      <td>...</td>\n",
       "      <td>...</td>\n",
       "      <td>...</td>\n",
       "      <td>...</td>\n",
       "      <td>...</td>\n",
       "      <td>...</td>\n",
       "      <td>...</td>\n",
       "      <td>...</td>\n",
       "      <td>...</td>\n",
       "      <td>...</td>\n",
       "      <td>...</td>\n",
       "      <td>...</td>\n",
       "      <td>...</td>\n",
       "      <td>...</td>\n",
       "      <td>...</td>\n",
       "      <td>...</td>\n",
       "      <td>...</td>\n",
       "    </tr>\n",
       "    <tr>\n",
       "      <th>59</th>\n",
       "      <td>0 days 03:55:18.532000</td>\n",
       "      <td>11</td>\n",
       "      <td>0 days 00:01:18.977000</td>\n",
       "      <td>60</td>\n",
       "      <td>NaT</td>\n",
       "      <td>NaT</td>\n",
       "      <td>0 days 00:00:20.727000</td>\n",
       "      <td>0 days 00:00:37.271000</td>\n",
       "      <td>0 days 00:00:20.979000</td>\n",
       "      <td>0 days 03:54:20.282000</td>\n",
       "      <td>...</td>\n",
       "      <td>MEDIUM</td>\n",
       "      <td>30.0</td>\n",
       "      <td>True</td>\n",
       "      <td>4</td>\n",
       "      <td>0 days 03:53:59.555000</td>\n",
       "      <td>Red Bull Racing</td>\n",
       "      <td>PER</td>\n",
       "      <td>2</td>\n",
       "      <td>True</td>\n",
       "      <td>2022-05-29 15:54:59.576</td>\n",
       "    </tr>\n",
       "    <tr>\n",
       "      <th>60</th>\n",
       "      <td>0 days 03:56:37.167000</td>\n",
       "      <td>11</td>\n",
       "      <td>0 days 00:01:18.635000</td>\n",
       "      <td>61</td>\n",
       "      <td>NaT</td>\n",
       "      <td>NaT</td>\n",
       "      <td>0 days 00:00:20.604000</td>\n",
       "      <td>0 days 00:00:37.198000</td>\n",
       "      <td>0 days 00:00:20.833000</td>\n",
       "      <td>0 days 03:55:39.136000</td>\n",
       "      <td>...</td>\n",
       "      <td>MEDIUM</td>\n",
       "      <td>31.0</td>\n",
       "      <td>True</td>\n",
       "      <td>4</td>\n",
       "      <td>0 days 03:55:18.532000</td>\n",
       "      <td>Red Bull Racing</td>\n",
       "      <td>PER</td>\n",
       "      <td>1</td>\n",
       "      <td>True</td>\n",
       "      <td>2022-05-29 15:56:18.553</td>\n",
       "    </tr>\n",
       "    <tr>\n",
       "      <th>61</th>\n",
       "      <td>0 days 03:57:55.164000</td>\n",
       "      <td>11</td>\n",
       "      <td>0 days 00:01:17.997000</td>\n",
       "      <td>62</td>\n",
       "      <td>NaT</td>\n",
       "      <td>NaT</td>\n",
       "      <td>0 days 00:00:20.579000</td>\n",
       "      <td>0 days 00:00:36.774000</td>\n",
       "      <td>0 days 00:00:20.644000</td>\n",
       "      <td>0 days 03:56:57.746000</td>\n",
       "      <td>...</td>\n",
       "      <td>MEDIUM</td>\n",
       "      <td>32.0</td>\n",
       "      <td>True</td>\n",
       "      <td>4</td>\n",
       "      <td>0 days 03:56:37.167000</td>\n",
       "      <td>Red Bull Racing</td>\n",
       "      <td>PER</td>\n",
       "      <td>1</td>\n",
       "      <td>True</td>\n",
       "      <td>2022-05-29 15:57:37.188</td>\n",
       "    </tr>\n",
       "    <tr>\n",
       "      <th>62</th>\n",
       "      <td>0 days 03:59:12.864000</td>\n",
       "      <td>11</td>\n",
       "      <td>0 days 00:01:17.700000</td>\n",
       "      <td>63</td>\n",
       "      <td>NaT</td>\n",
       "      <td>NaT</td>\n",
       "      <td>0 days 00:00:20.502000</td>\n",
       "      <td>0 days 00:00:36.739000</td>\n",
       "      <td>0 days 00:00:20.459000</td>\n",
       "      <td>0 days 03:58:15.666000</td>\n",
       "      <td>...</td>\n",
       "      <td>MEDIUM</td>\n",
       "      <td>33.0</td>\n",
       "      <td>True</td>\n",
       "      <td>4</td>\n",
       "      <td>0 days 03:57:55.164000</td>\n",
       "      <td>Red Bull Racing</td>\n",
       "      <td>PER</td>\n",
       "      <td>1</td>\n",
       "      <td>True</td>\n",
       "      <td>2022-05-29 15:58:55.185</td>\n",
       "    </tr>\n",
       "    <tr>\n",
       "      <th>63</th>\n",
       "      <td>0 days 04:00:30.781000</td>\n",
       "      <td>11</td>\n",
       "      <td>0 days 00:01:17.917000</td>\n",
       "      <td>64</td>\n",
       "      <td>NaT</td>\n",
       "      <td>NaT</td>\n",
       "      <td>0 days 00:00:20.421000</td>\n",
       "      <td>0 days 00:00:36.816000</td>\n",
       "      <td>0 days 00:00:20.680000</td>\n",
       "      <td>0 days 03:59:33.285000</td>\n",
       "      <td>...</td>\n",
       "      <td>MEDIUM</td>\n",
       "      <td>34.0</td>\n",
       "      <td>True</td>\n",
       "      <td>4</td>\n",
       "      <td>0 days 03:59:12.864000</td>\n",
       "      <td>Red Bull Racing</td>\n",
       "      <td>PER</td>\n",
       "      <td>1</td>\n",
       "      <td>True</td>\n",
       "      <td>2022-05-29 16:00:12.885</td>\n",
       "    </tr>\n",
       "  </tbody>\n",
       "</table>\n",
       "<p>64 rows × 27 columns</p>\n",
       "</div>"
      ],
      "text/plain": [
       "                     Time DriverNumber                LapTime  LapNumber  \\\n",
       "0  0 days 02:06:35.799000           11                    NaT          1   \n",
       "1  0 days 02:08:58.942000           11 0 days 00:02:23.143000          2   \n",
       "2  0 days 02:10:43.512000           11 0 days 00:01:44.570000          3   \n",
       "3  0 days 02:12:25.889000           11 0 days 00:01:42.377000          4   \n",
       "4  0 days 02:14:06.118000           11 0 days 00:01:40.229000          5   \n",
       "..                    ...          ...                    ...        ...   \n",
       "59 0 days 03:55:18.532000           11 0 days 00:01:18.977000         60   \n",
       "60 0 days 03:56:37.167000           11 0 days 00:01:18.635000         61   \n",
       "61 0 days 03:57:55.164000           11 0 days 00:01:17.997000         62   \n",
       "62 0 days 03:59:12.864000           11 0 days 00:01:17.700000         63   \n",
       "63 0 days 04:00:30.781000           11 0 days 00:01:17.917000         64   \n",
       "\n",
       "               PitOutTime              PitInTime            Sector1Time  \\\n",
       "0  0 days 02:04:16.197000 0 days 02:04:15.170000                    NaT   \n",
       "1                     NaT                    NaT 0 days 00:00:35.097000   \n",
       "2                     NaT                    NaT 0 days 00:00:28.244000   \n",
       "3                     NaT                    NaT 0 days 00:00:27.351000   \n",
       "4                     NaT                    NaT 0 days 00:00:27.101000   \n",
       "..                    ...                    ...                    ...   \n",
       "59                    NaT                    NaT 0 days 00:00:20.727000   \n",
       "60                    NaT                    NaT 0 days 00:00:20.604000   \n",
       "61                    NaT                    NaT 0 days 00:00:20.579000   \n",
       "62                    NaT                    NaT 0 days 00:00:20.502000   \n",
       "63                    NaT                    NaT 0 days 00:00:20.421000   \n",
       "\n",
       "              Sector2Time            Sector3Time     Sector1SessionTime  ...  \\\n",
       "0  0 days 00:01:02.877000 0 days 00:00:34.691000                    NaT  ...   \n",
       "1  0 days 00:01:04.135000 0 days 00:00:43.911000 0 days 02:07:10.896000  ...   \n",
       "2  0 days 00:00:48.546000 0 days 00:00:27.780000 0 days 02:09:27.186000  ...   \n",
       "3  0 days 00:00:47.512000 0 days 00:00:27.514000 0 days 02:11:10.863000  ...   \n",
       "4  0 days 00:00:46.748000 0 days 00:00:26.380000 0 days 02:12:52.990000  ...   \n",
       "..                    ...                    ...                    ...  ...   \n",
       "59 0 days 00:00:37.271000 0 days 00:00:20.979000 0 days 03:54:20.282000  ...   \n",
       "60 0 days 00:00:37.198000 0 days 00:00:20.833000 0 days 03:55:39.136000  ...   \n",
       "61 0 days 00:00:36.774000 0 days 00:00:20.644000 0 days 03:56:57.746000  ...   \n",
       "62 0 days 00:00:36.739000 0 days 00:00:20.459000 0 days 03:58:15.666000  ...   \n",
       "63 0 days 00:00:36.816000 0 days 00:00:20.680000 0 days 03:59:33.285000  ...   \n",
       "\n",
       "        Compound TyreLife  FreshTyre  Stint           LapStartTime  \\\n",
       "0   INTERMEDIATE      1.0       True      2 0 days 02:04:00.206000   \n",
       "1   INTERMEDIATE      2.0       True      2 0 days 02:06:35.799000   \n",
       "2   INTERMEDIATE      3.0       True      2 0 days 02:08:58.942000   \n",
       "3   INTERMEDIATE      4.0       True      2 0 days 02:10:43.512000   \n",
       "4   INTERMEDIATE      5.0       True      2 0 days 02:12:25.889000   \n",
       "..           ...      ...        ...    ...                    ...   \n",
       "59        MEDIUM     30.0       True      4 0 days 03:53:59.555000   \n",
       "60        MEDIUM     31.0       True      4 0 days 03:55:18.532000   \n",
       "61        MEDIUM     32.0       True      4 0 days 03:56:37.167000   \n",
       "62        MEDIUM     33.0       True      4 0 days 03:57:55.164000   \n",
       "63        MEDIUM     34.0       True      4 0 days 03:59:12.864000   \n",
       "\n",
       "               Team Driver TrackStatus  IsAccurate            LapStartDate  \n",
       "0   Red Bull Racing    PER           2       False 2022-05-29 14:05:00.227  \n",
       "1   Red Bull Racing    PER           4       False 2022-05-29 14:07:35.820  \n",
       "2   Red Bull Racing    PER           1       False 2022-05-29 14:09:58.963  \n",
       "3   Red Bull Racing    PER           1        True 2022-05-29 14:11:43.533  \n",
       "4   Red Bull Racing    PER           1        True 2022-05-29 14:13:25.910  \n",
       "..              ...    ...         ...         ...                     ...  \n",
       "59  Red Bull Racing    PER           2        True 2022-05-29 15:54:59.576  \n",
       "60  Red Bull Racing    PER           1        True 2022-05-29 15:56:18.553  \n",
       "61  Red Bull Racing    PER           1        True 2022-05-29 15:57:37.188  \n",
       "62  Red Bull Racing    PER           1        True 2022-05-29 15:58:55.185  \n",
       "63  Red Bull Racing    PER           1        True 2022-05-29 16:00:12.885  \n",
       "\n",
       "[64 rows x 27 columns]"
      ]
     },
     "execution_count": 10,
     "metadata": {},
     "output_type": "execute_result"
    }
   ],
   "source": [
    "ses.laps.pick_driver(\"PER\")"
   ]
  },
  {
   "cell_type": "code",
   "execution_count": 11,
   "metadata": {},
   "outputs": [],
   "source": [
    "perez_laps = ses.laps.pick_driver(\"PER\").pick_accurate()"
   ]
  },
  {
   "cell_type": "code",
   "execution_count": null,
   "metadata": {},
   "outputs": [],
   "source": [
    "perez_laps"
   ]
  },
  {
   "cell_type": "code",
   "execution_count": 13,
   "metadata": {},
   "outputs": [],
   "source": [
    "p_time = []\n",
    "p_rainfall = []\n",
    "perez_norain = []\n",
    "perez_rain = []\n",
    "for lap_id in range(len(perez_laps)):\n",
    "    lap = perez_laps.iloc[lap_id]\n",
    "    p_time.append(lap.Time.asm8.item() / 60_000_000_000)\n",
    "    rf = lap.get_weather_data().Rainfall\n",
    "    p_rainfall.append(rf)\n",
    "    if rf:\n",
    "        perez_rain.append(lap.get_telemetry())\n",
    "    else:\n",
    "        perez_norain.append(lap.get_telemetry())\n",
    "    clear_output()"
   ]
  },
  {
   "cell_type": "code",
   "execution_count": 14,
   "metadata": {},
   "outputs": [
    {
     "data": {
      "text/plain": [
       "35"
      ]
     },
     "execution_count": 14,
     "metadata": {},
     "output_type": "execute_result"
    }
   ],
   "source": [
    "len(perez_norain)"
   ]
  },
  {
   "cell_type": "code",
   "execution_count": 15,
   "metadata": {},
   "outputs": [
    {
     "data": {
      "text/plain": [
       "17"
      ]
     },
     "execution_count": 15,
     "metadata": {},
     "output_type": "execute_result"
    }
   ],
   "source": [
    "len(perez_rain)"
   ]
  },
  {
   "cell_type": "code",
   "execution_count": 33,
   "metadata": {},
   "outputs": [],
   "source": [
    "perez_nr_df = pd.concat(perez_norain, ignore_index=True)\n",
    "perez_r_df = pd.concat(perez_rain, ignore_index=True)"
   ]
  },
  {
   "cell_type": "markdown",
   "metadata": {},
   "source": [
    "Relative distance value cleanup"
   ]
  },
  {
   "cell_type": "code",
   "execution_count": 34,
   "metadata": {},
   "outputs": [],
   "source": [
    "perez_nr_df = perez_nr_df[perez_nr_df.RelativeDistance > 0]\n",
    "perez_r_df = perez_r_df[perez_r_df.RelativeDistance > 0]"
   ]
  },
  {
   "cell_type": "code",
   "execution_count": 54,
   "metadata": {},
   "outputs": [],
   "source": [
    "perez_nr_df = perez_nr_df.assign(\n",
    "    TrackBucket = (perez_nr_df.RelativeDistance * 500) // 1 + 1\n",
    ")\n",
    "perez_r_df = perez_r_df.assign(\n",
    "    TrackBucket = (perez_r_df.RelativeDistance * 500) // 1 + 1\n",
    ")"
   ]
  },
  {
   "cell_type": "code",
   "execution_count": 99,
   "metadata": {},
   "outputs": [],
   "source": [
    "perez_data_norain = perez_nr_df.groupby(\"TrackBucket\").aggregate(\n",
    "    X = pd.NamedAgg(column=\"X\", aggfunc=\"mean\"),\n",
    "    Y = pd.NamedAgg(column=\"Y\", aggfunc=\"mean\"),\n",
    "    Speed = pd.NamedAgg(column=\"Speed\", aggfunc=\"mean\"),\n",
    "    Throttle = pd.NamedAgg(column=\"Throttle\", aggfunc=\"mean\")\n",
    ")\n",
    "perez_data_rain = perez_r_df.groupby(\"TrackBucket\").aggregate(\n",
    "    X = pd.NamedAgg(column=\"X\", aggfunc=\"mean\"),\n",
    "    Y = pd.NamedAgg(column=\"Y\", aggfunc=\"mean\"),\n",
    "    Speed = pd.NamedAgg(column=\"Speed\", aggfunc=\"mean\"),\n",
    "    Throttle = pd.NamedAgg(column=\"Throttle\", aggfunc=\"mean\")\n",
    ")"
   ]
  },
  {
   "cell_type": "code",
   "execution_count": 114,
   "metadata": {},
   "outputs": [
    {
     "data": {
      "text/plain": [
       "56.01226585053971"
      ]
     },
     "execution_count": 114,
     "metadata": {},
     "output_type": "execute_result"
    }
   ],
   "source": [
    "perez_data_norain.Throttle.mean()"
   ]
  },
  {
   "cell_type": "code",
   "execution_count": 115,
   "metadata": {},
   "outputs": [
    {
     "data": {
      "text/plain": [
       "48.79990468796774"
      ]
     },
     "execution_count": 115,
     "metadata": {},
     "output_type": "execute_result"
    }
   ],
   "source": [
    "perez_data_rain.Throttle.mean()"
   ]
  },
  {
   "cell_type": "markdown",
   "metadata": {},
   "source": [
    "## Graphing function"
   ]
  },
  {
   "cell_type": "code",
   "execution_count": 116,
   "metadata": {},
   "outputs": [],
   "source": [
    "def create_lc(\n",
    "    telemetry: pd.DataFrame,\n",
    "    on: str,\n",
    "    cmap) -> LineCollection:\n",
    "    x = np.array(telemetry[\"X\"].values)\n",
    "    y = np.array(telemetry[\"Y\"].values)\n",
    "\n",
    "    points = np.array([x, y]).T.reshape(-1, 1, 2)\n",
    "    segments = np.concatenate([points[:-1], points[1:]], axis=1)\n",
    "    \n",
    "    speed = telemetry[on].to_numpy().astype(float)\n",
    "\n",
    "    lc_comp = LineCollection(segments, linestyle='solid')\n",
    "    lc_comp.set_array(speed)\n",
    "    lc_comp.set_linewidth(4)\n",
    "\n",
    "    if cmap is not None:\n",
    "        lc_comp.set_cmap(cmap)\n",
    "        \n",
    "    return lc_comp\n"
   ]
  },
  {
   "cell_type": "code",
   "execution_count": 154,
   "metadata": {},
   "outputs": [
    {
     "data": {
      "image/png": "[encoded data removed]",
      "text/plain": [
       "<Figure size 1000x500 with 3 Axes>"
      ]
     },
     "metadata": {},
     "output_type": "display_data"
    }
   ],
   "source": [
    "from turtle import color\n",
    "\n",
    "\n",
    "x = np.array(perez_data_norain[\"X\"].values)\n",
    "y = np.array(perez_data_norain[\"Y\"].values)\n",
    "\n",
    "on = \"Throttle\"\n",
    "cmap = cm.get_cmap(\"magma\")\n",
    "title = \"Perez Avarage Throttle Usage \\n without and with rain\"\n",
    "bg_color = \"#373F51\"\n",
    "\n",
    "lc_comp = create_lc(perez_data_norain, on, cmap)\n",
    "lc_comp2 = create_lc(perez_data_rain, on, cmap)\n",
    "\n",
    "fig, axes = plt.subplots(nrows=1, ncols=2, figsize=(10, 5))\n",
    "fig.set_facecolor(bg_color)\n",
    "for ax in axes.flat:\n",
    "    ax.set_facecolor(bg_color)\n",
    "    ax.set_frame_on(False)\n",
    "    ax.set_xlim(np.min(x) - 500, np.max(x) + 500)\n",
    "    ax.set_ylim(np.min(y) - 500, np.max(y) + 500)\n",
    "    ax.set_axis_off()\n",
    "\n",
    "axes[0].add_collection(lc_comp)\n",
    "axes[0].set_title(\"Without rain\", y=-0.01, x=0.5, color=\"white\")\n",
    "axes[1].add_collection(lc_comp2)\n",
    "axes[1].set_title(\"During rain\", y=-0.01, x=0.5, color=\"white\")\n",
    "\n",
    "# plt.tick_params(labelleft=False, left=False, labelbottom=False, bottom=False)\n",
    "if title is not None:\n",
    "    figtitle = plt.suptitle(title, color=\"white\")\n",
    "\n",
    "colorbar = fig.colorbar(lc_comp2, ax=axes.ravel().tolist(), shrink=0.95)\n",
    "colorbar.ax.tick_params(color=\"white\", labelcolor=\"white\")\n",
    "colorbar.set_label(\"Throttle\", color=\"white\")\n",
    "\n",
    "\n",
    "plt.savefig(\"Perez.png\", transparent=False)\n"
   ]
  },
  {
   "cell_type": "code",
   "execution_count": null,
   "metadata": {},
   "outputs": [],
   "source": []
  }
 ],
 "metadata": {
  "kernelspec": {
   "display_name": "Python 3.8.13 ('f1')",
   "language": "python",
   "name": "python3"
  },
  "language_info": {
   "codemirror_mode": {
    "name": "ipython",
    "version": 3
   },
   "file_extension": ".py",
   "mimetype": "text/x-python",
   "name": "python",
   "nbconvert_exporter": "python",
   "pygments_lexer": "ipython3",
   "version": "3.8.13"
  },
  "orig_nbformat": 4,
  "vscode": {
   "interpreter": {
    "hash": "7de2927e30fc50b7ee8e8ca91084ba989aa1920571f78150f7a41c59d41c8c95"
   }
  }
 },
 "nbformat": 4,
 "nbformat_minor": 2
}
